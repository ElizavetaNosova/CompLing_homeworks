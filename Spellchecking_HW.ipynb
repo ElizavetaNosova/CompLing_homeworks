{
 "cells": [
  {
   "cell_type": "code",
   "execution_count": 1,
   "metadata": {},
   "outputs": [],
   "source": [
    "import os, re\n",
    "from string import punctuation\n",
    "import numpy as np\n",
    "import json\n",
    "from collections import Counter\n",
    "from collections import defaultdict\n",
    "from pprint import pprint\n",
    "from nltk import sent_tokenize\n",
    "punctuation += \"«»—…“”\"\n",
    "punct = set(punctuation)\n",
    "import copy\n",
    "\n",
    "\n",
    "from sklearn.metrics import classification_report, accuracy_score"
   ]
  },
  {
   "cell_type": "code",
   "execution_count": 2,
   "metadata": {},
   "outputs": [],
   "source": [
    "bad = open('sents_with_mistakes.txt.txt', encoding='utf8').read().splitlines()\n",
    "true = open('correct_sents.txt.txt', encoding='utf8').read().splitlines()"
   ]
  },
  {
   "cell_type": "code",
   "execution_count": 3,
   "metadata": {},
   "outputs": [
    {
     "name": "stdout",
     "output_type": "stream",
     "text": [
      "Пояним эту мысль.\n",
      "Поясним эту мысль\n"
     ]
    }
   ],
   "source": [
    "print(bad[2])\n",
    "print(true[2])"
   ]
  },
  {
   "cell_type": "code",
   "execution_count": null,
   "metadata": {},
   "outputs": [],
   "source": []
  },
  {
   "cell_type": "code",
   "execution_count": 4,
   "metadata": {},
   "outputs": [],
   "source": [
    "def prepare_sents(sents):\n",
    "    tokenized = []\n",
    "    for sent in sents:\n",
    "        sent = sent.lower()\n",
    "        tokens = sent.split()\n",
    "        tokens = [re.sub('(^\\W+|\\W+$)', '', token) for token in tokens if (set(token)-punct)]\n",
    "        tokenized.append(list(tokens))\n",
    "    return tokenized"
   ]
  },
  {
   "cell_type": "code",
   "execution_count": 5,
   "metadata": {},
   "outputs": [],
   "source": [
    "bad_tokens = prepare_sents(bad)\n",
    "true_tokens = prepare_sents(true)"
   ]
  },
  {
   "cell_type": "code",
   "execution_count": 6,
   "metadata": {},
   "outputs": [
    {
     "name": "stdout",
     "output_type": "stream",
     "text": [
      "['опофеозом', 'дня', 'для', 'меня', 'сегодня', 'стала', 'фраза', 'услышанная', 'в', 'новостях']\n"
     ]
    }
   ],
   "source": [
    "print(bad_tokens[1])"
   ]
  },
  {
   "cell_type": "code",
   "execution_count": 7,
   "metadata": {},
   "outputs": [],
   "source": [
    "import gzip\n",
    "import csv"
   ]
  },
  {
   "cell_type": "code",
   "execution_count": null,
   "metadata": {},
   "outputs": [],
   "source": []
  },
  {
   "cell_type": "code",
   "execution_count": 8,
   "metadata": {},
   "outputs": [],
   "source": [
    "corpus = open('corpus_5000.txt', 'w', encoding = 'utf-8')\n",
    "with gzip.open('lenta-ru-news.csv.gz', 'rt', encoding='utf-8') as archive:\n",
    "    reader = csv.reader(archive, delimiter=',', quotechar='\"')\n",
    "    for i, line in enumerate(reader):\n",
    "        if i < 5000: \n",
    "            corpus.write(line[2].replace('\\xa0', ' ') + '\\n')"
   ]
  },
  {
   "cell_type": "code",
   "execution_count": 9,
   "metadata": {},
   "outputs": [],
   "source": [
    "def normalize(text):\n",
    "    normalized_text = [(word.strip(punctuation)) for word in text.lower().split()]\n",
    "    normalized_text = [word for word in normalized_text if word]\n",
    "    return normalized_text"
   ]
  },
  {
   "cell_type": "code",
   "execution_count": 10,
   "metadata": {},
   "outputs": [
    {
     "name": "stderr",
     "output_type": "stream",
     "text": [
      "[nltk_data] Downloading package punkt to\n",
      "[nltk_data]     C:\\Users\\lizan\\AppData\\Roaming\\nltk_data...\n",
      "[nltk_data]   Package punkt is already up-to-date!\n"
     ]
    }
   ],
   "source": [
    "import string\n",
    "import nltk\n",
    "from nltk import sent_tokenize\n",
    "nltk.download('punkt')\n",
    "punctuation = string.punctuation+ \"«»—…“”\"\n",
    "punct = set(punctuation)"
   ]
  },
  {
   "cell_type": "code",
   "execution_count": null,
   "metadata": {},
   "outputs": [],
   "source": []
  },
  {
   "cell_type": "code",
   "execution_count": 17,
   "metadata": {},
   "outputs": [],
   "source": [
    "corpus = []\n",
    "for text in open('corpus_5000.txt', encoding = 'utf-8').read().splitlines():\n",
    "    sents = sent_tokenize(text)\n",
    "    norm_sents = [['<START>'] + ['<START>'] + normalize(sent) + ['<END>'] + ['<END>'] for sent in sents]\n",
    "    corpus += norm_sents"
   ]
  },
  {
   "cell_type": "code",
   "execution_count": null,
   "metadata": {},
   "outputs": [],
   "source": [
    "## Нам всё равно понадобится список токенов без повторений, почему бы не посчитать частотность слов и заодно Ngram уже сейчас"
   ]
  },
  {
   "cell_type": "code",
   "execution_count": 18,
   "metadata": {},
   "outputs": [],
   "source": [
    "def ngrammer(tokens, n=2):\n",
    "    ngrams = []\n",
    "    for i in range(0,len(tokens)-n+1):\n",
    "        ngrams.append(' '.join(tokens[i:i+n]))\n",
    "    return ngrams"
   ]
  },
  {
   "cell_type": "code",
   "execution_count": 20,
   "metadata": {},
   "outputs": [],
   "source": [
    "unigrams= Counter()\n",
    "bigrams = Counter()\n",
    "trigrams = Counter()\n",
    "\n",
    "for sentence in corpus:\n",
    "    unigrams.update(sentence)\n",
    "    bigrams.update(ngrammer(sentence))\n",
    "    trigrams.update(ngrammer(sentence, 3))"
   ]
  },
  {
   "cell_type": "code",
   "execution_count": 171,
   "metadata": {},
   "outputs": [],
   "source": [
    "def del_letter(word, n=0):\n",
    "    word_L = word[:n]\n",
    "    word_R = word[n:]\n",
    "    word_afterdel = word_L + word_R[1:]\n",
    "    return word_afterdel"
   ]
  },
  {
   "cell_type": "raw",
   "metadata": {},
   "source": [
    "for i in range(len(true_tokens)):\n",
    "    if len(true_tokens[i]) != len(bad_tokens[i]):\n",
    "        print(true_tokens[i], bad_tokens[i], i)"
   ]
  },
  {
   "cell_type": "code",
   "execution_count": null,
   "metadata": {},
   "outputs": [],
   "source": []
  },
  {
   "cell_type": "code",
   "execution_count": 296,
   "metadata": {},
   "outputs": [],
   "source": [
    "def clear_multiplied(word): #большое количество повторяющихся букв превращается в две повторяющиеся буквы\n",
    "    delword = []\n",
    "    clear_word = word\n",
    "    for i in range(len(word)-3, 0, -1):\n",
    "        if word[i] == word[i+1] and word[i] == word[i+2]: \n",
    "            delword.append(i) \n",
    "        clear_word = del_letter(clear_word, len(word)-i)       #иду от конца к началу, чтобы не сдвигались индексы\n",
    "    return clear_word"
   ]
  },
  {
   "cell_type": "code",
   "execution_count": 290,
   "metadata": {},
   "outputs": [
    {
     "name": "stdout",
     "output_type": "stream",
     "text": [
      "хоршооо\n"
     ]
    }
   ],
   "source": [
    "print(clear_multiplied('хорошоооооо')) #убирает часть из повторяющихся букв"
   ]
  },
  {
   "cell_type": "code",
   "execution_count": 286,
   "metadata": {},
   "outputs": [],
   "source": [
    "def clear_all_multiplied(word):\n",
    "    word2 = word\n",
    "    while clear_multiplied(clear_multiplied(word2)) != clear_multiplied(word2):\n",
    "        word2 = clear_multiplied(word2)\n",
    "    return word2"
   ]
  },
  {
   "cell_type": "code",
   "execution_count": 297,
   "metadata": {},
   "outputs": [
    {
     "name": "stdout",
     "output_type": "stream",
     "text": [
      "хоро\n"
     ]
    }
   ],
   "source": [
    "print(clear_all_multiplied('хорошоооооо')) #это странно, потому что ш не подходит под условие word[i] == word[i+1]. Дальше функцию не использую"
   ]
  },
  {
   "cell_type": "code",
   "execution_count": 61,
   "metadata": {},
   "outputs": [],
   "source": [
    "def corpus_del(corpus):\n",
    "    corpusdict = defaultdict(set)\n",
    "    for word in corpus:\n",
    "        for n in range(len(word)):\n",
    "            word1del = del_letter(word, n)\n",
    "            corpusdict[word1del].add(word)\n",
    "    return(corpusdict)"
   ]
  },
  {
   "cell_type": "code",
   "execution_count": 62,
   "metadata": {},
   "outputs": [],
   "source": [
    "corpusdict = corpus_del(unigrams.elements())"
   ]
  },
  {
   "cell_type": "code",
   "execution_count": 128,
   "metadata": {},
   "outputs": [
    {
     "name": "stdout",
     "output_type": "stream",
     "text": [
      "{'кода', 'кора', 'коба', 'кожа', 'копа', 'коап', 'кома', 'коза', 'коса', 'кота'}\n"
     ]
    }
   ],
   "source": [
    "print(corpusdict['коа'])"
   ]
  },
  {
   "cell_type": "code",
   "execution_count": 179,
   "metadata": {},
   "outputs": [],
   "source": [
    "unigrams_set = set(unigrams.elements())"
   ]
  },
  {
   "cell_type": "code",
   "execution_count": 183,
   "metadata": {},
   "outputs": [],
   "source": [
    "def symspell2dels(text, corpus, corpusdict):\n",
    "    textset = set(text)\n",
    "    corrections = {}\n",
    "    for word in textset:\n",
    "        correct = set()\n",
    "        if word not in corpus:\n",
    "            delword = set()\n",
    "            for n in range(len(word)):\n",
    "                word1del = del_letter(word, n)\n",
    "                delword.add(word1del) \n",
    "            for seq in delword:\n",
    "                if seq in corpus:\n",
    "                    correct.add(seq)\n",
    "                if seq in corpusdict:\n",
    "                    for correctword in corpusdict[seq]:\n",
    "                        correct.add(correctword)\n",
    "        if correct:\n",
    "            corrections[word] = correct\n",
    "    return corrections  "
   ]
  },
  {
   "cell_type": "code",
   "execution_count": 184,
   "metadata": {},
   "outputs": [],
   "source": [
    "bad_list = []\n",
    "for i in bad_tokens:\n",
    "    for j in i:\n",
    "        bad_list.append(j)"
   ]
  },
  {
   "cell_type": "code",
   "execution_count": 185,
   "metadata": {},
   "outputs": [],
   "source": [
    "corrections = symspell2dels(bad_list, unigrams_set, corpusdict)"
   ]
  },
  {
   "cell_type": "code",
   "execution_count": 146,
   "metadata": {},
   "outputs": [],
   "source": []
  },
  {
   "cell_type": "code",
   "execution_count": 216,
   "metadata": {},
   "outputs": [],
   "source": [
    "n = len(bad_tokens)\n",
    "corrected_randomoption = [[] for i in range(n)]\n",
    "for i in range(n):\n",
    "    for token in bad_tokens[i]:\n",
    "        if token not in corrections:\n",
    "                corrected_randomoption[i].append(token)\n",
    "        else:\n",
    "            existing_word = random.choice(list(corrections[token]))\n",
    "            corrected_randomoption[i].append(existing_word)"
   ]
  },
  {
   "cell_type": "code",
   "execution_count": 299,
   "metadata": {},
   "outputs": [
    {
     "name": "stdout",
     "output_type": "stream",
     "text": [
      "['апофеозом', 'дня', 'для', 'меня', 'сегодня', 'стала', 'фраза', 'услышанная', 'в', 'новостях']\n"
     ]
    }
   ],
   "source": [
    "print(corrected_randomoption[1])"
   ]
  },
  {
   "cell_type": "markdown",
   "metadata": {},
   "source": [
    "# Оценим работу спелчекера, выбирающего одно из наиболее близких слов"
   ]
  },
  {
   "cell_type": "code",
   "execution_count": 301,
   "metadata": {},
   "outputs": [],
   "source": [
    "def metrics(true, bad, corrected):\n",
    "    total_mistaken = 0\n",
    "    really_corrected = 0\n",
    "    not_corrected = 0\n",
    "    broken = 0\n",
    "    correct_at_bad = 0\n",
    "    wrong_at_bad = 0\n",
    "    for i in range(len(true)):\n",
    "        if len(true[i]) == len(bad[i]): #я не исправляла ошибки в слитно-раздельном написании\n",
    "            for j in range(len(true[i])):\n",
    "                true_word = true[i][j]\n",
    "                bad_word = bad[i][j]\n",
    "                corrected_word = corrected[i][j]\n",
    "                if true_word != bad_word:\n",
    "                    wrong_at_bad += 1\n",
    "                    if true_word == corrected_word:\n",
    "                        really_corrected += 1\n",
    "                else:\n",
    "                    total_mistaken += 1\n",
    "                    not_corrected += 1\n",
    "            else:\n",
    "                correct_at_bad += 1\n",
    "                if true_word != corrected_word:\n",
    "                    total_mistaken += 1\n",
    "                    broken += 1\n",
    "    metrics_dict = {}\n",
    "    metrics_dict['%mistakes'] = total_mistaken/(correct_at_bad + wrong_at_bad)\n",
    "    metrics_dict['%corrected'] = really_corrected/wrong_at_bad * 100\n",
    "    metrics_dict['%broken'] = broken/correct_at_bad*100\n",
    "    return(metrics_dict)       "
   ]
  },
  {
   "cell_type": "code",
   "execution_count": 303,
   "metadata": {},
   "outputs": [],
   "source": [
    "dist_metrics_random = metrics(true_tokens, bad_tokens, corrected_randomoption)"
   ]
  },
  {
   "cell_type": "code",
   "execution_count": 304,
   "metadata": {},
   "outputs": [
    {
     "name": "stdout",
     "output_type": "stream",
     "text": [
      "{'%mistakes': 4.034952337721289, '%corrected': 26.552795031055897, '%broken': 19.89071038251366}\n"
     ]
    }
   ],
   "source": [
    "print(dist_metrics_random) #при перезапуске кода проценты будут немного меняться"
   ]
  },
  {
   "cell_type": "markdown",
   "metadata": {},
   "source": [
    "# Будем выбирать слово в соответствии с частотностью триграм"
   ]
  },
  {
   "cell_type": "code",
   "execution_count": 241,
   "metadata": {},
   "outputs": [],
   "source": [
    "#N-грамы посчитали выше\n",
    "def p_max_words(ngrams, prevngrams, prevngram, options, p_max0 = 0, p_max_words0 = []):\n",
    "    p_max_words = p_max_words0\n",
    "    p_max = p_max0\n",
    "    for option in options:\n",
    "        try:\n",
    "            p = ngrams[prevngram + ' ' + option]/prevngrams[prevngram]\n",
    "        except ZeroDivisionError:\n",
    "                p = 0\n",
    "        if p > p_max:\n",
    "            p_max = p\n",
    "            p_max_words = []\n",
    "        if p == p_max:\n",
    "            p_max_words.append(option)\n",
    "    return(p_max_words)"
   ]
  },
  {
   "cell_type": "code",
   "execution_count": 260,
   "metadata": {},
   "outputs": [
    {
     "ename": "IndentationError",
     "evalue": "unexpected unindent (<ipython-input-260-c9aa224e212e>, line 19)",
     "output_type": "error",
     "traceback": [
      "\u001b[1;36m  File \u001b[1;32m\"<ipython-input-260-c9aa224e212e>\"\u001b[1;36m, line \u001b[1;32m19\u001b[0m\n\u001b[1;33m    return corrected_text\u001b[0m\n\u001b[1;37m    ^\u001b[0m\n\u001b[1;31mIndentationError\u001b[0m\u001b[1;31m:\u001b[0m unexpected unindent\n"
     ]
    }
   ],
   "source": [
    "def trigram_correct_sentence(sentence, corrections, bigrams, trigrams):\n",
    "    print(corrections)\n",
    "    corrected_sent = ['<start>', '<start>']\n",
    "    for word in sentence:\n",
    "        if word not in corrections:\n",
    "            corrected_sent.append(word)\n",
    "        else:\n",
    "            wordset = corrections[word]\n",
    "            if len(wordset) == 1:\n",
    "                corrected_sent.append = wordset.pop()\n",
    "            else:\n",
    "                corrected_bigram = corrected_sent[-2] + ' ' + corrected_sent[-1]\n",
    "                max_p = 0\n",
    "                max_p_words = []\n",
    "                p_max_trigram = p_max_words(trigrams, bigrams, corrected_bigram, wordset)\n",
    "                try:\n",
    "                    chosen = random.choice(p_max_trigram)  #берём любое слово из самых вероятных\n",
    "                    corrected_text[i].append(chosen)\n",
    "    return corrected_text\n",
    "#почему jupiter не подсвечивает красным положение return, а при запуске выдаёт unexpected unindent?"
   ]
  },
  {
   "cell_type": "code",
   "execution_count": 255,
   "metadata": {},
   "outputs": [
    {
     "name": "stdout",
     "output_type": "stream",
     "text": [
      "set()\n"
     ]
    },
    {
     "ename": "NameError",
     "evalue": "name 'corrected_text' is not defined",
     "output_type": "error",
     "traceback": [
      "\u001b[1;31m---------------------------------------------------------------------------\u001b[0m",
      "\u001b[1;31mNameError\u001b[0m                                 Traceback (most recent call last)",
      "\u001b[1;32m<ipython-input-255-3bd4851b5b28>\u001b[0m in \u001b[0;36m<module>\u001b[1;34m\u001b[0m\n\u001b[1;32m----> 1\u001b[1;33m \u001b[0mcorrected_text_trigrams\u001b[0m \u001b[1;33m=\u001b[0m \u001b[1;33m[\u001b[0m\u001b[0mtrigram_correct_sentence\u001b[0m\u001b[1;33m(\u001b[0m\u001b[0msent\u001b[0m\u001b[1;33m,\u001b[0m \u001b[0mcorrections\u001b[0m\u001b[1;33m,\u001b[0m \u001b[0mbigrams\u001b[0m\u001b[1;33m,\u001b[0m \u001b[0mtrigrams\u001b[0m\u001b[1;33m)\u001b[0m\u001b[1;33m[\u001b[0m\u001b[1;36m2\u001b[0m\u001b[1;33m:\u001b[0m\u001b[1;33m]\u001b[0m \u001b[1;32mfor\u001b[0m \u001b[0msent\u001b[0m \u001b[1;32min\u001b[0m \u001b[0mbad_tokens\u001b[0m\u001b[1;33m]\u001b[0m\u001b[1;33m\u001b[0m\u001b[1;33m\u001b[0m\u001b[0m\n\u001b[0m\u001b[0;32m      2\u001b[0m \u001b[1;31m#не берём тэги начала предложения\u001b[0m\u001b[1;33m\u001b[0m\u001b[1;33m\u001b[0m\u001b[1;33m\u001b[0m\u001b[0m\n",
      "\u001b[1;32m<ipython-input-255-3bd4851b5b28>\u001b[0m in \u001b[0;36m<listcomp>\u001b[1;34m(.0)\u001b[0m\n\u001b[1;32m----> 1\u001b[1;33m \u001b[0mcorrected_text_trigrams\u001b[0m \u001b[1;33m=\u001b[0m \u001b[1;33m[\u001b[0m\u001b[0mtrigram_correct_sentence\u001b[0m\u001b[1;33m(\u001b[0m\u001b[0msent\u001b[0m\u001b[1;33m,\u001b[0m \u001b[0mcorrections\u001b[0m\u001b[1;33m,\u001b[0m \u001b[0mbigrams\u001b[0m\u001b[1;33m,\u001b[0m \u001b[0mtrigrams\u001b[0m\u001b[1;33m)\u001b[0m\u001b[1;33m[\u001b[0m\u001b[1;36m2\u001b[0m\u001b[1;33m:\u001b[0m\u001b[1;33m]\u001b[0m \u001b[1;32mfor\u001b[0m \u001b[0msent\u001b[0m \u001b[1;32min\u001b[0m \u001b[0mbad_tokens\u001b[0m\u001b[1;33m]\u001b[0m\u001b[1;33m\u001b[0m\u001b[1;33m\u001b[0m\u001b[0m\n\u001b[0m\u001b[0;32m      2\u001b[0m \u001b[1;31m#не берём тэги начала предложения\u001b[0m\u001b[1;33m\u001b[0m\u001b[1;33m\u001b[0m\u001b[1;33m\u001b[0m\u001b[0m\n",
      "\u001b[1;32m<ipython-input-244-40dbe9055696>\u001b[0m in \u001b[0;36mtrigram_correct_sentence\u001b[1;34m(sentence, corrections, bigrams, trigrams)\u001b[0m\n\u001b[0;32m     17\u001b[0m                 \u001b[1;32mexcept\u001b[0m\u001b[1;33m:\u001b[0m\u001b[1;33m\u001b[0m\u001b[1;33m\u001b[0m\u001b[0m\n\u001b[0;32m     18\u001b[0m                     \u001b[0mprint\u001b[0m\u001b[1;33m(\u001b[0m\u001b[0mwordset\u001b[0m\u001b[1;33m)\u001b[0m\u001b[1;33m\u001b[0m\u001b[1;33m\u001b[0m\u001b[0m\n\u001b[1;32m---> 19\u001b[1;33m                 \u001b[0mcorrected_text\u001b[0m\u001b[1;33m[\u001b[0m\u001b[0mi\u001b[0m\u001b[1;33m]\u001b[0m\u001b[1;33m.\u001b[0m\u001b[0mappend\u001b[0m\u001b[1;33m(\u001b[0m\u001b[0mchosen\u001b[0m\u001b[1;33m)\u001b[0m\u001b[1;33m\u001b[0m\u001b[1;33m\u001b[0m\u001b[0m\n\u001b[0m\u001b[0;32m     20\u001b[0m     \u001b[0msentence\u001b[0m\u001b[1;33m.\u001b[0m\u001b[0mpop\u001b[0m\u001b[1;33m(\u001b[0m\u001b[1;36m1\u001b[0m\u001b[1;33m)\u001b[0m \u001b[1;31m#убираем '<start>'\u001b[0m\u001b[1;33m\u001b[0m\u001b[1;33m\u001b[0m\u001b[0m\n\u001b[0;32m     21\u001b[0m     \u001b[0msentence\u001b[0m\u001b[1;33m.\u001b[0m\u001b[0mpop\u001b[0m\u001b[1;33m(\u001b[0m\u001b[1;36m0\u001b[0m\u001b[1;33m)\u001b[0m\u001b[1;33m\u001b[0m\u001b[1;33m\u001b[0m\u001b[0m\n",
      "\u001b[1;31mNameError\u001b[0m: name 'corrected_text' is not defined"
     ]
    }
   ],
   "source": [
    "corrected_text_trigrams = [trigram_correct_sentence(sent, corrections, bigrams, trigrams)[2:] for sent in bad_tokens]\n",
    "#не берём тэги начала предложения"
   ]
  },
  {
   "cell_type": "code",
   "execution_count": null,
   "metadata": {},
   "outputs": [],
   "source": []
  },
  {
   "cell_type": "code",
   "execution_count": null,
   "metadata": {},
   "outputs": [],
   "source": []
  }
 ],
 "metadata": {
  "kernelspec": {
   "display_name": "Python 3",
   "language": "python",
   "name": "python3"
  },
  "language_info": {
   "codemirror_mode": {
    "name": "ipython",
    "version": 3
   },
   "file_extension": ".py",
   "mimetype": "text/x-python",
   "name": "python",
   "nbconvert_exporter": "python",
   "pygments_lexer": "ipython3",
   "version": "3.7.3"
  }
 },
 "nbformat": 4,
 "nbformat_minor": 2
}
