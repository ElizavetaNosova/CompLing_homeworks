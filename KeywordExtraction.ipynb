{
  "nbformat": 4,
  "nbformat_minor": 0,
  "metadata": {
    "colab": {
      "name": "KeywordExtraction.ipynb",
      "provenance": [],
      "collapsed_sections": [
        "ocSQNw2v6EeI"
      ],
      "authorship_tag": "ABX9TyNBAvICrMBzDesEiyc6f2M8",
      "include_colab_link": true
    },
    "kernelspec": {
      "name": "python3",
      "display_name": "Python 3"
    }
  },
  "cells": [
    {
      "cell_type": "markdown",
      "metadata": {
        "id": "view-in-github",
        "colab_type": "text"
      },
      "source": [
        "<a href=\"https://colab.research.google.com/github/ElizavetaNosova/CompLing_homeworks/blob/master/KeywordExtraction.ipynb\" target=\"_parent\"><img src=\"https://colab.research.google.com/assets/colab-badge.svg\" alt=\"Open In Colab\"/></a>"
      ]
    },
    {
      "cell_type": "code",
      "metadata": {
        "id": "dsn0nBS4Q1Bh",
        "colab_type": "code",
        "outputId": "fab5b3a2-2804-420d-c3f7-be39b097fcbf",
        "colab": {
          "base_uri": "https://localhost:8080/",
          "height": 52
        }
      },
      "source": [
        "\n",
        "import json, os\n",
        "import pandas as pd\n",
        "from nltk.corpus import stopwords\n",
        "import numpy as np\n",
        "from pymorphy2 import MorphAnalyzer\n",
        "from collections import Counter\n",
        "from sklearn.feature_extraction.text import TfidfVectorizer\n",
        "morph = MorphAnalyzer()\n",
        "import nltk\n",
        "nltk.download('stopwords')\n",
        "stops = set(stopwords.words('russian'))"
      ],
      "execution_count": 2,
      "outputs": [
        {
          "output_type": "stream",
          "text": [
            "[nltk_data] Downloading package stopwords to /root/nltk_data...\n",
            "[nltk_data]   Unzipping corpora/stopwords.zip.\n"
          ],
          "name": "stdout"
        }
      ]
    },
    {
      "cell_type": "code",
      "metadata": {
        "id": "GS3XlmPIVA8Q",
        "colab_type": "code",
        "outputId": "ab990e08-5220-4d1a-869d-457d93570db0",
        "colab": {
          "base_uri": "https://localhost:8080/",
          "height": 232
        }
      },
      "source": [
        "!pip install pymorphy2"
      ],
      "execution_count": 1,
      "outputs": [
        {
          "output_type": "stream",
          "text": [
            "Collecting pymorphy2\n",
            "\u001b[?25l  Downloading https://files.pythonhosted.org/packages/a3/33/fff9675c68b5f6c63ec8c6e6ff57827dda28a1fa5b2c2d727dffff92dd47/pymorphy2-0.8-py2.py3-none-any.whl (46kB)\n",
            "\r\u001b[K     |███████                         | 10kB 1.4MB/s eta 0:00:01\r\u001b[K     |██████████████▏                 | 20kB 1.4MB/s eta 0:00:01\r\u001b[K     |█████████████████████▎          | 30kB 2.1MB/s eta 0:00:01\r\u001b[K     |████████████████████████████▍   | 40kB 2.4MB/s eta 0:00:01\r\u001b[K     |████████████████████████████████| 51kB 2.3MB/s \n",
            "\u001b[?25hCollecting dawg-python>=0.7\n",
            "  Downloading https://files.pythonhosted.org/packages/6a/84/ff1ce2071d4c650ec85745766c0047ccc3b5036f1d03559fd46bb38b5eeb/DAWG_Python-0.7.2-py2.py3-none-any.whl\n",
            "Requirement already satisfied: docopt>=0.6 in /usr/local/lib/python3.6/dist-packages (from pymorphy2) (0.6.2)\n",
            "Collecting pymorphy2-dicts<3.0,>=2.4\n",
            "\u001b[?25l  Downloading https://files.pythonhosted.org/packages/02/51/2465fd4f72328ab50877b54777764d928da8cb15b74e2680fc1bd8cb3173/pymorphy2_dicts-2.4.393442.3710985-py2.py3-none-any.whl (7.1MB)\n",
            "\u001b[K     |████████████████████████████████| 7.1MB 7.7MB/s \n",
            "\u001b[?25hInstalling collected packages: dawg-python, pymorphy2-dicts, pymorphy2\n",
            "Successfully installed dawg-python-0.7.2 pymorphy2-0.8 pymorphy2-dicts-2.4.393442.3710985\n"
          ],
          "name": "stdout"
        }
      ]
    },
    {
      "cell_type": "code",
      "metadata": {
        "id": "BqNYMvunRM9V",
        "colab_type": "code",
        "colab": {}
      },
      "source": [
        "def evaluate(true_kws, predicted_kws):\n",
        "    assert len(true_kws) == len(predicted_kws)\n",
        "    \n",
        "    precisions = []\n",
        "    recalls = []\n",
        "    f1s = []\n",
        "    jaccards = []\n",
        "    \n",
        "    for i in range(len(true_kws)):\n",
        "        \n",
        "        true_kw = set(true_kws[i])\n",
        "        predicted_kw = set(predicted_kws[i])\n",
        "        \n",
        "        tp = len(true_kw & predicted_kw)\n",
        "        union = len(true_kw | predicted_kw)\n",
        "        fp = len(predicted_kw - true_kw)\n",
        "        fn = len(true_kw - predicted_kw)\n",
        "        \n",
        "        if (tp+fp) == 0:\n",
        "            prec = 0\n",
        "        else:\n",
        "            prec = tp / (tp + fp)\n",
        "        \n",
        "        if (tp+fn) == 0:\n",
        "            rec = 0\n",
        "        else:\n",
        "            rec = tp / (tp + fn)\n",
        "        if (prec+rec) == 0:\n",
        "            f1 = 0\n",
        "        else:\n",
        "            f1 = (2*(prec*rec))/(prec+rec)\n",
        "            \n",
        "        jac = tp / union\n",
        "        \n",
        "        precisions.append(prec)\n",
        "        recalls.append(rec)\n",
        "        f1s.append(f1)\n",
        "        jaccards.append(jac)\n",
        "    print('Precision - ', round(np.mean(precisions), 2))\n",
        "    print('Recall - ', round(np.mean(recalls), 2))\n",
        "    print('F1 - ', round(np.mean(f1s), 2))\n",
        "    print('Jaccard - ', round(np.mean(jaccards), 2))"
      ],
      "execution_count": 0,
      "outputs": []
    },
    {
      "cell_type": "code",
      "metadata": {
        "id": "wDZb2iiVRWNj",
        "colab_type": "code",
        "colab": {}
      },
      "source": [
        ""
      ],
      "execution_count": 0,
      "outputs": []
    },
    {
      "cell_type": "markdown",
      "metadata": {
        "id": "ESkgFaYoR55A",
        "colab_type": "text"
      },
      "source": [
        "Идея 1: будем учитывать не только существительные, но и однокоренные им слова других частей речи.\n",
        "Алгоритм:\n",
        "1. Составляем словать \"результат стеминга существительного - существительное\", игнорируя слова других частей речи.\n",
        "2. Делаем стеминг всего текста, оставляем только те единицы, которые есть в словаре.\n",
        "3. Выявляем \"ключевые результаты стеминга\" с помощью графа\n",
        "4. Ответам считаем соответствующие им существительные"
      ]
    },
    {
      "cell_type": "markdown",
      "metadata": {
        "id": "jgtk5K4gSqed",
        "colab_type": "text"
      },
      "source": [
        "Проверка на части данных"
      ]
    },
    {
      "cell_type": "markdown",
      "metadata": {
        "id": "-hXGcgdiUycT",
        "colab_type": "text"
      },
      "source": [
        ""
      ]
    },
    {
      "cell_type": "markdown",
      "metadata": {
        "id": "WXl7DT--Uyjm",
        "colab_type": "text"
      },
      "source": [
        "Сначала сделаем проверку на части данных, а потом пересчитаем хорошие решения для всех данных"
      ]
    },
    {
      "cell_type": "code",
      "metadata": {
        "id": "Bm5hEo-cSuqs",
        "colab_type": "code",
        "outputId": "0265872a-930c-4af7-e358-3a1aef6bc9db",
        "colab": {
          "resources": {
            "http://localhost:8080/nbextensions/google.colab/files.js": {
              "data": "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",
              "ok": true,
              "headers": [
                [
                  "content-type",
                  "application/javascript"
                ]
              ],
              "status": 200,
              "status_text": ""
            }
          },
          "base_uri": "https://localhost:8080/",
          "height": 74
        }
      },
      "source": [
        "from google.colab import files\n",
        "uploaded = files.upload()"
      ],
      "execution_count": 5,
      "outputs": [
        {
          "output_type": "display_data",
          "data": {
            "text/html": [
              "\n",
              "     <input type=\"file\" id=\"files-4b43aa60-a8a9-4d4e-92df-35160689f3a6\" name=\"files[]\" multiple disabled />\n",
              "     <output id=\"result-4b43aa60-a8a9-4d4e-92df-35160689f3a6\">\n",
              "      Upload widget is only available when the cell has been executed in the\n",
              "      current browser session. Please rerun this cell to enable.\n",
              "      </output>\n",
              "      <script src=\"/nbextensions/google.colab/files.js\"></script> "
            ],
            "text/plain": [
              "<IPython.core.display.HTML object>"
            ]
          },
          "metadata": {
            "tags": []
          }
        },
        {
          "output_type": "stream",
          "text": [
            "Saving ng_0.jsonlines to ng_0.jsonlines\n"
          ],
          "name": "stdout"
        }
      ]
    },
    {
      "cell_type": "code",
      "metadata": {
        "id": "LsbC07ANToju",
        "colab_type": "code",
        "colab": {}
      },
      "source": [
        "test_data = pd.read_json('ng_0.jsonlines', lines=True)"
      ],
      "execution_count": 0,
      "outputs": []
    },
    {
      "cell_type": "code",
      "metadata": {
        "id": "9p2G7kLuVUtY",
        "colab_type": "code",
        "outputId": "df2c4c1c-d579-4731-915e-91993862aae2",
        "colab": {
          "base_uri": "https://localhost:8080/",
          "height": 773
        }
      },
      "source": [
        "test_data"
      ],
      "execution_count": 0,
      "outputs": [
        {
          "output_type": "execute_result",
          "data": {
            "text/html": [
              "<div>\n",
              "<style scoped>\n",
              "    .dataframe tbody tr th:only-of-type {\n",
              "        vertical-align: middle;\n",
              "    }\n",
              "\n",
              "    .dataframe tbody tr th {\n",
              "        vertical-align: top;\n",
              "    }\n",
              "\n",
              "    .dataframe thead th {\n",
              "        text-align: right;\n",
              "    }\n",
              "</style>\n",
              "<table border=\"1\" class=\"dataframe\">\n",
              "  <thead>\n",
              "    <tr style=\"text-align: right;\">\n",
              "      <th></th>\n",
              "      <th>keywords</th>\n",
              "      <th>title</th>\n",
              "      <th>url</th>\n",
              "      <th>content</th>\n",
              "      <th>summary</th>\n",
              "      <th>content_norm</th>\n",
              "      <th>title_norm</th>\n",
              "    </tr>\n",
              "  </thead>\n",
              "  <tbody>\n",
              "    <tr>\n",
              "      <th>0</th>\n",
              "      <td>[яблоко, молодежь, молодежное яблоко]</td>\n",
              "      <td>\"Молодежное \"Яблоко\": оппозиционная деятельнос...</td>\n",
              "      <td>http://www.ng.ru/ng_politics/2017-04-18/11_697...</td>\n",
              "      <td>Многие интересуются, зачем нужна «Яблоку» моло...</td>\n",
              "      <td></td>\n",
              "      <td>[многие, интересоваться, нужный, яблоко, молод...</td>\n",
              "      <td>[молодёжный, яблоко, оппозиционный, деятельнос...</td>\n",
              "    </tr>\n",
              "    <tr>\n",
              "      <th>1</th>\n",
              "      <td>[газпром, газ]</td>\n",
              "      <td>\"Газпрома\" на всех не хватит</td>\n",
              "      <td>http://www.ng.ru/economics/2008-04-03/1_gazpro...</td>\n",
              "      <td>Вчера «Газпром» снизил верхнюю планку прогноза...</td>\n",
              "      <td></td>\n",
              "      <td>[вчера, газпром, снизить, верхний, планка, про...</td>\n",
              "      <td>[газпром, хватить]</td>\n",
              "    </tr>\n",
              "    <tr>\n",
              "      <th>2</th>\n",
              "      <td>[франсуа рабле, сервантес, шекспир, конан дойл...</td>\n",
              "      <td>Бесконечная партия в четырехмерные  шахматы</td>\n",
              "      <td>http://www.ng.ru/person/2018-03-22/10_927_vitk...</td>\n",
              "      <td>Долголетний труд Евгения Витковского на ниве п...</td>\n",
              "      <td>Евгений Витковский о том, как Босх протягивает...</td>\n",
              "      <td>[долголетний, труд, евгений, витковский, нива,...</td>\n",
              "      <td>[бесконечный, партия, четырехмерный, шахматы]</td>\n",
              "    </tr>\n",
              "    <tr>\n",
              "      <th>3</th>\n",
              "      <td>[владивосток, суд, ким, футина, выборы, боевое...</td>\n",
              "      <td>Экс-депутат, осужденная за фальсификацию выбор...</td>\n",
              "      <td>http://www.ng.ru/regions/2018-01-10/100_vladiv...</td>\n",
              "      <td>В Ленинском районном суде продолжаются слушани...</td>\n",
              "      <td>Фигурантке уголовного дела о фальсификации выб...</td>\n",
              "      <td>[ленинский, районный, суд, продолжаться, слуша...</td>\n",
              "      <td>[экс-депутат, осудить, фальсификация, выбор, о...</td>\n",
              "    </tr>\n",
              "    <tr>\n",
              "      <th>4</th>\n",
              "      <td>[новая москва, подмосковье, благоустройство, т...</td>\n",
              "      <td>Новая Москва останется территорией экологическ...</td>\n",
              "      <td>http://www.ng.ru/ng_stolitsa/2017-11-10/10_711...</td>\n",
              "      <td>В 2012 году российская столица резко увеличила...</td>\n",
              "      <td>Лучшие проекты благоустройства общественных пр...</td>\n",
              "      <td>[2012, год, российский, столица, резко, увелич...</td>\n",
              "      <td>[новый, москва, остаться, территория, экологич...</td>\n",
              "    </tr>\n",
              "    <tr>\n",
              "      <th>...</th>\n",
              "      <td>...</td>\n",
              "      <td>...</td>\n",
              "      <td>...</td>\n",
              "      <td>...</td>\n",
              "      <td>...</td>\n",
              "      <td>...</td>\n",
              "      <td>...</td>\n",
              "    </tr>\n",
              "    <tr>\n",
              "      <th>994</th>\n",
              "      <td>[венгрия, виктор орбан, миграционный кризис, и...</td>\n",
              "      <td>Орбан призвал остановить \"исламскую экспансию\"</td>\n",
              "      <td>http://www.ng.ru/world/2018-02-21/1_7177_hunga...</td>\n",
              "      <td>В парламенте Венгрии обсудили законопроект, за...</td>\n",
              "      <td>Тема миграции остается оружием в руках правых ...</td>\n",
              "      <td>[парламент, венгрия, обсудить, законопроект, з...</td>\n",
              "      <td>[орбан, призвать, остановить, исламский, экспа...</td>\n",
              "    </tr>\n",
              "    <tr>\n",
              "      <th>995</th>\n",
              "      <td>[парижское соглашение, климат, экология, парни...</td>\n",
              "      <td>Парижское соглашение: трудности перевода</td>\n",
              "      <td>http://www.ng.ru/energy/2018-03-20/12_7193_cli...</td>\n",
              "      <td>Парижское соглашение сегодня в России у всех н...</td>\n",
              "      <td>Искажение буквы и смысла договорных текстов св...</td>\n",
              "      <td>[парижский, соглашение, сегодня, россия, уста,...</td>\n",
              "      <td>[парижский, соглашение, трудность, перевод]</td>\n",
              "    </tr>\n",
              "    <tr>\n",
              "      <th>996</th>\n",
              "      <td>[юрий коваль, проза, стихи, юбилей, троцкий, м...</td>\n",
              "      <td>А Троцкого убили кирпичом</td>\n",
              "      <td>https://amp.ng.ru/?p=http://www.ng.ru/ng_exlib...</td>\n",
              "      <td>Юрий Коваль – писатель нужный, чрезвычайно нео...</td>\n",
              "      <td>Завтра исполняется 80 лет со дня рождения писа...</td>\n",
              "      <td>[юрий, коваль, писатель, нужный, чрезвычайно, ...</td>\n",
              "      <td>[троцкий, убить, кирпич]</td>\n",
              "    </tr>\n",
              "    <tr>\n",
              "      <th>997</th>\n",
              "      <td>[кинофестиваль, дух огня, хантымансийск, кино]</td>\n",
              "      <td>Кино в городе сверкающего снега</td>\n",
              "      <td>http://www.ng.ru/cinematograph/2018-03-12/100_...</td>\n",
              "      <td>«Дух огня», международный смотр кинематографич...</td>\n",
              "      <td>Ханты-Мансийский фестиваль \"Дух огня\" присудил...</td>\n",
              "      <td>[дух, огонь, международный, смотр, кинематогра...</td>\n",
              "      <td>[кино, город, сверкать, снег]</td>\n",
              "    </tr>\n",
              "    <tr>\n",
              "      <th>998</th>\n",
              "      <td>[информационная война, россия, информационная ...</td>\n",
              "      <td>Информационная война и цифровой мир</td>\n",
              "      <td>http://www.ng.ru/scenario/2016-04-26/12_infowa...</td>\n",
              "      <td>Тема информационных войн сегодня актуальна, во...</td>\n",
              "      <td>Всякой стране, увлеченной пропагандой, грозит ...</td>\n",
              "      <td>[тема, информационный, война, сегодня, актуаль...</td>\n",
              "      <td>[информационный, война, цифровой, мир]</td>\n",
              "    </tr>\n",
              "  </tbody>\n",
              "</table>\n",
              "<p>999 rows × 7 columns</p>\n",
              "</div>"
            ],
            "text/plain": [
              "                                              keywords  ...                                         title_norm\n",
              "0                [яблоко, молодежь, молодежное яблоко]  ...  [молодёжный, яблоко, оппозиционный, деятельнос...\n",
              "1                                       [газпром, газ]  ...                                 [газпром, хватить]\n",
              "2    [франсуа рабле, сервантес, шекспир, конан дойл...  ...      [бесконечный, партия, четырехмерный, шахматы]\n",
              "3    [владивосток, суд, ким, футина, выборы, боевое...  ...  [экс-депутат, осудить, фальсификация, выбор, о...\n",
              "4    [новая москва, подмосковье, благоустройство, т...  ...  [новый, москва, остаться, территория, экологич...\n",
              "..                                                 ...  ...                                                ...\n",
              "994  [венгрия, виктор орбан, миграционный кризис, и...  ...  [орбан, призвать, остановить, исламский, экспа...\n",
              "995  [парижское соглашение, климат, экология, парни...  ...        [парижский, соглашение, трудность, перевод]\n",
              "996  [юрий коваль, проза, стихи, юбилей, троцкий, м...  ...                           [троцкий, убить, кирпич]\n",
              "997     [кинофестиваль, дух огня, хантымансийск, кино]  ...                      [кино, город, сверкать, снег]\n",
              "998  [информационная война, россия, информационная ...  ...             [информационный, война, цифровой, мир]\n",
              "\n",
              "[999 rows x 7 columns]"
            ]
          },
          "metadata": {
            "tags": []
          },
          "execution_count": 21
        }
      ]
    },
    {
      "cell_type": "code",
      "metadata": {
        "id": "JpGinl9wVYb_",
        "colab_type": "code",
        "colab": {}
      },
      "source": [
        ""
      ],
      "execution_count": 0,
      "outputs": []
    },
    {
      "cell_type": "markdown",
      "metadata": {
        "id": "0EoMSt1GVZCU",
        "colab_type": "text"
      },
      "source": [
        "Посчитаем бейзлайн для тестового фрагмента данных"
      ]
    },
    {
      "cell_type": "code",
      "metadata": {
        "id": "VehHkiwFVdS5",
        "colab_type": "code",
        "colab": {}
      },
      "source": [
        "from string import punctuation\n",
        "from nltk.corpus import stopwords\n",
        "punct = punctuation+'«»—…“”*№–'\n",
        "stops = set(stopwords.words('russian'))\n",
        "\n",
        "def normalize(text):\n",
        "    \n",
        "    words = [word.strip(punct) for word in text.lower().split()]\n",
        "    words = [morph.parse(word)[0].normal_form for word in words if word and word not in stops]\n",
        "\n",
        "    return words"
      ],
      "execution_count": 0,
      "outputs": []
    },
    {
      "cell_type": "code",
      "metadata": {
        "id": "6FIty5BGWCPv",
        "colab_type": "code",
        "colab": {}
      },
      "source": [
        "test_data['content_norm'] = test_data['content'].apply(normalize)\n",
        "test_data['title_norm'] = test_data['title'].apply(normalize)"
      ],
      "execution_count": 0,
      "outputs": []
    },
    {
      "cell_type": "code",
      "metadata": {
        "id": "aIiB0pF-WOkV",
        "colab_type": "code",
        "colab": {}
      },
      "source": [
        "from itertools import combinations\n",
        "#Функция для работы с графами позаимствована в семинарской тетрадке\n",
        "def get_kws(text, top=10, window_size=10, random_p=0.1):\n",
        "\n",
        "    vocab = set(text)\n",
        "    word2id = {w:i for i, w in enumerate(vocab)}\n",
        "    id2word = {i:w for i, w in enumerate(vocab)}\n",
        "    # преобразуем слова в индексы для удобства\n",
        "    ids = [word2id[word] for word in text]\n",
        "\n",
        "    # создадим матрицу совстречаемости\n",
        "    m = np.zeros((len(vocab), len(vocab)))\n",
        "\n",
        "    # пройдемся окном по всему тексту\n",
        "    for i in range(0, len(ids), window_size):\n",
        "        window = ids[i:i+window_size]\n",
        "        # добавим единичку всем парам слов в этом окне\n",
        "        for j, k in combinations(window, 2):\n",
        "            # чтобы граф был ненаправленный \n",
        "            m[j][k] += 1\n",
        "            m[k][j] += 1\n",
        "    \n",
        "    # нормализуем строки, чтобы получилась вероятность перехода\n",
        "    for i in range(m.shape[0]):\n",
        "        s = np.sum(m[i])\n",
        "        if not s:\n",
        "            continue\n",
        "        m[i] /= s\n",
        "    \n",
        "    # случайно выберем первое слова, а затем будет выбирать на основе полученых распределений\n",
        "    # сделаем так 5 раз и добавим каждое слово в счетчик\n",
        "    # чтобы не забиться в одном круге, иногда будет перескакивать на случайное слово\n",
        "    \n",
        "    c = Counter()\n",
        "    # начнем с абсолютного случайно выбранного элемента\n",
        "    n = np.random.choice(len(vocab))\n",
        "    for i in range(500): # если долго считается, можно уменьшить число проходов\n",
        "        \n",
        "        # c вероятностью random_p \n",
        "        # перескакиваем на другой узел\n",
        "        go_random = np.random.choice([0, 1], p=[1-random_p, random_p])\n",
        "        \n",
        "        if go_random:\n",
        "            n = np.random.choice(len(vocab))\n",
        "        \n",
        "        \n",
        "        ### \n",
        "        n = take_step(n, m)\n",
        "        # записываем узлы, в которых были\n",
        "        c.update([n])\n",
        "    \n",
        "    # вернем топ-N наиболее часто встретившихся сл\n",
        "    return [id2word[i] for i, count in c.most_common(top)]\n",
        "\n",
        "def take_step(n, matrix):\n",
        "    rang = len(matrix[n])\n",
        "    # выбираем узел из заданного интервала, на основе распределения из матрицы совстречаемости\n",
        "    if np.any(matrix[n]):\n",
        "        next_n = np.random.choice(range(rang), p=matrix[n])\n",
        "    else:\n",
        "        next_n = np.random.choice(range(rang))\n",
        "    return next_n"
      ],
      "execution_count": 0,
      "outputs": []
    },
    {
      "cell_type": "code",
      "metadata": {
        "id": "zm2naRnkWm-h",
        "colab_type": "code",
        "outputId": "5b69dd4d-779e-47b2-c055-6b615819fcd7",
        "colab": {
          "base_uri": "https://localhost:8080/",
          "height": 87
        }
      },
      "source": [
        "keywords_rw = test_data['content_norm'].apply(lambda x: get_kws(x, 10, 10))\n",
        "evaluate(test_data['keywords'], keywords_rw)"
      ],
      "execution_count": 0,
      "outputs": [
        {
          "output_type": "stream",
          "text": [
            "Precision -  0.08\n",
            "Recall -  0.15\n",
            "F1 -  0.1\n",
            "Jaccard -  0.05\n"
          ],
          "name": "stdout"
        }
      ]
    },
    {
      "cell_type": "code",
      "metadata": {
        "id": "jsD-LVM4XelQ",
        "colab_type": "code",
        "colab": {}
      },
      "source": [
        "from nltk.stem.snowball import SnowballStemmer\n",
        "stemmer = SnowballStemmer(\"russian\")"
      ],
      "execution_count": 0,
      "outputs": []
    },
    {
      "cell_type": "code",
      "metadata": {
        "id": "GwYSqi87X8D_",
        "colab_type": "code",
        "colab": {}
      },
      "source": [
        "def keyword_with_stemming(lemmas):\n",
        "  stem_to_word = {}\n",
        "  for lemma in lemmas:\n",
        "    parsed_word = morph.parse(lemma)[0]\n",
        "    if 'NOUN' in parsed_word.tag:\n",
        "        stem_to_word[stemmer.stem(lemma)]=lemma\n",
        "  stems = [stemmer.stem(lemma) for lemma in lemmas]\n",
        "  chosen = [stem_to_word[stem] for stem in stems if stem in stem_to_word]\n",
        "  kws = get_kws(chosen, 10, 10)\n",
        "  return kws"
      ],
      "execution_count": 0,
      "outputs": []
    },
    {
      "cell_type": "code",
      "metadata": {
        "id": "7sU_ws5miZDf",
        "colab_type": "code",
        "colab": {}
      },
      "source": [
        "keywords_rw = test_data['content_norm'].apply(lambda x: keyword_with_stemming(x))"
      ],
      "execution_count": 0,
      "outputs": []
    },
    {
      "cell_type": "code",
      "metadata": {
        "id": "0gGvWpSOkqjU",
        "colab_type": "code",
        "outputId": "5f0eaf9a-7c5e-4afa-9070-ed8de6632d0d",
        "colab": {
          "base_uri": "https://localhost:8080/",
          "height": 87
        }
      },
      "source": [
        "evaluate(test_data['keywords'], keywords_rw)"
      ],
      "execution_count": 0,
      "outputs": [
        {
          "output_type": "stream",
          "text": [
            "Precision -  0.11\n",
            "Recall -  0.21\n",
            "F1 -  0.14\n",
            "Jaccard -  0.08\n"
          ],
          "name": "stdout"
        }
      ]
    },
    {
      "cell_type": "markdown",
      "metadata": {
        "id": "ax1kvNYvk3Ef",
        "colab_type": "text"
      },
      "source": [
        "Метрики удалось повысить"
      ]
    },
    {
      "cell_type": "markdown",
      "metadata": {
        "id": "ZAq0Y5Gck82D",
        "colab_type": "text"
      },
      "source": [
        "Идея 2. \n",
        "Сделаем граф направленным. Попробуем два направления и выберем, какое работает лучше."
      ]
    },
    {
      "cell_type": "code",
      "metadata": {
        "id": "fnik6k5RlMeG",
        "colab_type": "code",
        "colab": {}
      },
      "source": [
        "def get_kws_directed1(text, top=10, window_size=10, random_p=0.1):\n",
        "\n",
        "    vocab = set(text)\n",
        "    word2id = {w:i for i, w in enumerate(vocab)}\n",
        "    id2word = {i:w for i, w in enumerate(vocab)}\n",
        "    # преобразуем слова в индексы для удобства\n",
        "    ids = [word2id[word] for word in text]\n",
        "\n",
        "    # создадим матрицу совстречаемости\n",
        "    m = np.zeros((len(vocab), len(vocab)))\n",
        "\n",
        "    # пройдемся окном по всему тексту\n",
        "    for i in range(0, len(ids), window_size):\n",
        "        window = ids[i:i+window_size]\n",
        "        # добавим единичку всем парам слов в этом окне\n",
        "        for j, k in combinations(window, 2):\n",
        "            # чтобы граф был ненаправленный \n",
        "            m[j][k] += 1\n",
        "            #m[k][j] += 1\n",
        "    \n",
        "    # нормализуем строки, чтобы получилась вероятность перехода\n",
        "    for i in range(m.shape[0]):\n",
        "        s = np.sum(m[i])\n",
        "        if not s:\n",
        "            continue\n",
        "        m[i] /= s\n",
        "    \n",
        "    # случайно выберем первое слова, а затем будет выбирать на основе полученых распределений\n",
        "    # сделаем так 5 раз и добавим каждое слово в счетчик\n",
        "    # чтобы не забиться в одном круге, иногда будет перескакивать на случайное слово\n",
        "    \n",
        "    c = Counter()\n",
        "    # начнем с абсолютного случайно выбранного элемента\n",
        "    n = np.random.choice(len(vocab))\n",
        "    for i in range(500): # если долго считается, можно уменьшить число проходов\n",
        "        \n",
        "        # c вероятностью random_p \n",
        "        # перескакиваем на другой узел\n",
        "        go_random = np.random.choice([0, 1], p=[1-random_p, random_p])\n",
        "        \n",
        "        if go_random:\n",
        "            n = np.random.choice(len(vocab))\n",
        "        \n",
        "        \n",
        "        ### \n",
        "        n = take_step(n, m)\n",
        "        # записываем узлы, в которых были\n",
        "        c.update([n])\n",
        "    \n",
        "    # вернем топ-N наиболее часто встретившихся сл\n",
        "    return [id2word[i] for i, count in c.most_common(top)]\n",
        "\n",
        "def take_step(n, matrix):\n",
        "    rang = len(matrix[n])\n",
        "    # выбираем узел из заданного интервала, на основе распределения из матрицы совстречаемости\n",
        "    if np.any(matrix[n]):\n",
        "        next_n = np.random.choice(range(rang), p=matrix[n])\n",
        "    else:\n",
        "        next_n = np.random.choice(range(rang))\n",
        "    return next_n"
      ],
      "execution_count": 0,
      "outputs": []
    },
    {
      "cell_type": "code",
      "metadata": {
        "id": "DQZ5k21vl3Is",
        "colab_type": "code",
        "colab": {}
      },
      "source": [
        "def get_kws_directed2(text, top=10, window_size=10, random_p=0.1):\n",
        "\n",
        "    vocab = set(text)\n",
        "    word2id = {w:i for i, w in enumerate(vocab)}\n",
        "    id2word = {i:w for i, w in enumerate(vocab)}\n",
        "    # преобразуем слова в индексы для удобства\n",
        "    ids = [word2id[word] for word in text]\n",
        "\n",
        "    # создадим матрицу совстречаемости\n",
        "    m = np.zeros((len(vocab), len(vocab)))\n",
        "\n",
        "    # пройдемся окном по всему тексту\n",
        "    for i in range(0, len(ids), window_size):\n",
        "        window = ids[i:i+window_size]\n",
        "        # добавим единичку всем парам слов в этом окне\n",
        "        for j, k in combinations(window, 2):\n",
        "            # чтобы граф был ненаправленный \n",
        "            #m[j][k] += 1\n",
        "            m[k][j] += 1\n",
        "    \n",
        "    # нормализуем строки, чтобы получилась вероятность перехода\n",
        "    for i in range(m.shape[0]):\n",
        "        s = np.sum(m[i])\n",
        "        if not s:\n",
        "            continue\n",
        "        m[i] /= s\n",
        "    \n",
        "    # случайно выберем первое слова, а затем будет выбирать на основе полученых распределений\n",
        "    # сделаем так 5 раз и добавим каждое слово в счетчик\n",
        "    # чтобы не забиться в одном круге, иногда будет перескакивать на случайное слово\n",
        "    \n",
        "    c = Counter()\n",
        "    # начнем с абсолютного случайно выбранного элемента\n",
        "    n = np.random.choice(len(vocab))\n",
        "    for i in range(500): # если долго считается, можно уменьшить число проходов\n",
        "        \n",
        "        # c вероятностью random_p \n",
        "        # перескакиваем на другой узел\n",
        "        go_random = np.random.choice([0, 1], p=[1-random_p, random_p])\n",
        "        \n",
        "        if go_random:\n",
        "            n = np.random.choice(len(vocab))\n",
        "        \n",
        "        \n",
        "        ### \n",
        "        n = take_step(n, m)\n",
        "        # записываем узлы, в которых были\n",
        "        c.update([n])\n",
        "    \n",
        "    # вернем топ-N наиболее часто встретившихся сл\n",
        "    return [id2word[i] for i, count in c.most_common(top)]\n",
        "\n",
        "def take_step(n, matrix):\n",
        "    rang = len(matrix[n])\n",
        "    # выбираем узел из заданного интервала, на основе распределения из матрицы совстречаемости\n",
        "    if np.any(matrix[n]):\n",
        "        next_n = np.random.choice(range(rang), p=matrix[n])\n",
        "    else:\n",
        "        next_n = np.random.choice(range(rang))\n",
        "    return next_n"
      ],
      "execution_count": 0,
      "outputs": []
    },
    {
      "cell_type": "code",
      "metadata": {
        "id": "Md09zXT2l_di",
        "colab_type": "code",
        "outputId": "038be323-8d8f-4b1c-9155-558528d09054",
        "colab": {
          "base_uri": "https://localhost:8080/",
          "height": 87
        }
      },
      "source": [
        "keywords_rw = test_data['content_norm'].apply(lambda x: get_kws_directed1(x, 10, 10))\n",
        "evaluate(test_data['keywords'], keywords_rw)"
      ],
      "execution_count": 0,
      "outputs": [
        {
          "output_type": "stream",
          "text": [
            "Precision -  0.05\n",
            "Recall -  0.11\n",
            "F1 -  0.07\n",
            "Jaccard -  0.04\n"
          ],
          "name": "stdout"
        }
      ]
    },
    {
      "cell_type": "code",
      "metadata": {
        "id": "axp2UgbompTn",
        "colab_type": "code",
        "outputId": "de0cc762-494b-4dd4-add5-f17d241edd59",
        "colab": {
          "base_uri": "https://localhost:8080/",
          "height": 87
        }
      },
      "source": [
        "keywords_rw = test_data['content_norm'].apply(lambda x: get_kws_directed2(x, 10, 10))\n",
        "evaluate(test_data['keywords'], keywords_rw)"
      ],
      "execution_count": 0,
      "outputs": [
        {
          "output_type": "stream",
          "text": [
            "Precision -  0.06\n",
            "Recall -  0.13\n",
            "F1 -  0.08\n",
            "Jaccard -  0.04\n"
          ],
          "name": "stdout"
        }
      ]
    },
    {
      "cell_type": "markdown",
      "metadata": {
        "id": "I4hScJ5uoFOK",
        "colab_type": "text"
      },
      "source": [
        "Становится только хуже"
      ]
    },
    {
      "cell_type": "markdown",
      "metadata": {
        "id": "UNBqzzraoNNE",
        "colab_type": "text"
      },
      "source": [
        "Проверим, поможет ли в комбинации со стемингом"
      ]
    },
    {
      "cell_type": "code",
      "metadata": {
        "id": "NAwR4c_YoLW8",
        "colab_type": "code",
        "colab": {}
      },
      "source": [
        "def keyword_with_stemming_directed(lemmas):\n",
        "  stem_to_word = {}\n",
        "  for lemma in lemmas:\n",
        "    parsed_word = morph.parse(lemma)[0]\n",
        "    if 'NOUN' in parsed_word.tag:\n",
        "        stem_to_word[stemmer.stem(lemma)]=lemma\n",
        "  stems = [stemmer.stem(lemma) for lemma in lemmas]\n",
        "  chosen = [stem_to_word[stem] for stem in stems if stem in stem_to_word]\n",
        "  kws = get_kws_directed2(chosen, 10, 10)\n",
        "  return kws"
      ],
      "execution_count": 0,
      "outputs": []
    },
    {
      "cell_type": "code",
      "metadata": {
        "id": "ABf6K_9ioqlr",
        "colab_type": "code",
        "outputId": "b2c01f26-e7be-4c13-e439-47070ff2ce4e",
        "colab": {
          "base_uri": "https://localhost:8080/",
          "height": 87
        }
      },
      "source": [
        "keywords_rw = test_data['content_norm'].apply(lambda x: keyword_with_stemming_directed(x))\n",
        "evaluate(test_data['keywords'], keywords_rw)"
      ],
      "execution_count": 0,
      "outputs": [
        {
          "output_type": "stream",
          "text": [
            "Precision -  0.09\n",
            "Recall -  0.18\n",
            "F1 -  0.11\n",
            "Jaccard -  0.06\n"
          ],
          "name": "stdout"
        }
      ]
    },
    {
      "cell_type": "markdown",
      "metadata": {
        "id": "5FIF8Nt2ppMh",
        "colab_type": "text"
      },
      "source": [
        "Стеминг без однонаправленности помогает лучше"
      ]
    },
    {
      "cell_type": "markdown",
      "metadata": {
        "id": "pDUBYAdRpL01",
        "colab_type": "text"
      },
      "source": [
        "Идея 3. Попробуем повысить значимость слов из заголовка, прибавив к в соответствующих строках и столбцах n при составлении матрицы"
      ]
    },
    {
      "cell_type": "code",
      "metadata": {
        "id": "gIJHj5lqp38m",
        "colab_type": "code",
        "colab": {}
      },
      "source": [
        "def get_kws_title_using_title(text, title, top=10, window_size=10, random_p=0.1, k=3):\n",
        "\n",
        "    vocab = set(text)\n",
        "    word2id = {w:i for i, w in enumerate(vocab)}\n",
        "    id2word = {i:w for i, w in enumerate(vocab)}\n",
        "    # преобразуем слова в индексы для удобства\n",
        "    ids = [word2id[word] for word in text]\n",
        "\n",
        "    # создадим матрицу совстречаемости\n",
        "    m = np.zeros((len(vocab), len(vocab)))\n",
        "\n",
        "    # пройдемся окном по всему тексту\n",
        "    for i in range(0, len(ids), window_size):\n",
        "        window = ids[i:i+window_size]\n",
        "        # добавим единичку всем парам слов в этом окне\n",
        "        for j, k in combinations(window, 2):\n",
        "            # чтобы граф был ненаправленный \n",
        "            m[j][k] += 1\n",
        "            m[k][j] += 1\n",
        "    \n",
        "    for word in title: #повышаем вероятность перехода в слова из заголовка\n",
        "      if word in word2id:\n",
        "        j = word2id[word]\n",
        "        for i in range(len(vocab)):\n",
        "          m[i][j] += k\n",
        "\n",
        "    # нормализуем строки, чтобы получилась вероятность перехода\n",
        "    for i in range(m.shape[0]):\n",
        "        s = np.sum(m[i])\n",
        "        if not s:\n",
        "            continue\n",
        "        m[i] /= s\n",
        "    \n",
        "    # случайно выберем первое слова, а затем будет выбирать на основе полученых распределений\n",
        "    # сделаем так 5 раз и добавим каждое слово в счетчик\n",
        "    # чтобы не забиться в одном круге, иногда будет перескакивать на случайное слово\n",
        "    \n",
        "    c = Counter()\n",
        "    # начнем с абсолютного случайно выбранного элемента\n",
        "    n = np.random.choice(len(vocab))\n",
        "    for i in range(500): # если долго считается, можно уменьшить число проходов\n",
        "        \n",
        "        # c вероятностью random_p \n",
        "        # перескакиваем на другой узел\n",
        "        go_random = np.random.choice([0, 1], p=[1-random_p, random_p])\n",
        "        \n",
        "        if go_random:\n",
        "            n = np.random.choice(len(vocab))\n",
        "        \n",
        "        \n",
        "        ### \n",
        "        n = take_step(n, m)\n",
        "        # записываем узлы, в которых были\n",
        "        c.update([n])\n",
        "    \n",
        "    # вернем топ-N наиболее часто встретившихся сл\n",
        "    return [id2word[i] for i, count in c.most_common(top)]\n",
        "\n",
        "def take_step(n, matrix):\n",
        "    rang = len(matrix[n])\n",
        "    # выбираем узел из заданного интервала, на основе распределения из матрицы совстречаемости\n",
        "    if np.any(matrix[n]):\n",
        "        next_n = np.random.choice(range(rang), p=matrix[n])\n",
        "    else:\n",
        "        next_n = np.random.choice(range(rang))\n",
        "        return next_n"
      ],
      "execution_count": 0,
      "outputs": []
    },
    {
      "cell_type": "code",
      "metadata": {
        "id": "p4tfmeVXrKHD",
        "colab_type": "code",
        "outputId": "83e40f44-e19b-4a7f-9574-95e71f198c51",
        "colab": {
          "base_uri": "https://localhost:8080/",
          "height": 87
        }
      },
      "source": [
        "context_norm = list(test_data['content_norm'])\n",
        "title_norm = list(test_data['title_norm'])\n",
        "key_words = []\n",
        "for i in range(len(context_norm)):\n",
        "  key_words.append(get_kws_title_using_title(text=context_norm[i], title=title_norm[i])) #k=3\n",
        "keywords_rw = pd.DataFrame({'text':context_norm, 'kw':key_words}) \n",
        "\n",
        "evaluate(test_data['keywords'], keywords_rw['kw'])"
      ],
      "execution_count": 0,
      "outputs": [
        {
          "output_type": "stream",
          "text": [
            "Precision -  0.08\n",
            "Recall -  0.16\n",
            "F1 -  0.1\n",
            "Jaccard -  0.06\n"
          ],
          "name": "stdout"
        }
      ]
    },
    {
      "cell_type": "code",
      "metadata": {
        "id": "0v6Bb_k8vSo8",
        "colab_type": "code",
        "outputId": "c00088b5-8222-478e-e6ec-81d71ab0ec9d",
        "colab": {
          "base_uri": "https://localhost:8080/",
          "height": 87
        }
      },
      "source": [
        "context_norm = list(test_data['content_norm'])\n",
        "title_norm = list(test_data['title_norm'])\n",
        "key_words = []\n",
        "for i in range(len(context_norm)):\n",
        "  key_words.append(get_kws_title_using_title(text=context_norm[i], title=title_norm[i], k=1))\n",
        "keywords_rw = pd.DataFrame({'text':context_norm, 'kw':key_words})\n",
        "\n",
        "evaluate(test_data['keywords'], keywords_rw['kw'])"
      ],
      "execution_count": 0,
      "outputs": [
        {
          "output_type": "stream",
          "text": [
            "Precision -  0.08\n",
            "Recall -  0.17\n",
            "F1 -  0.1\n",
            "Jaccard -  0.06\n"
          ],
          "name": "stdout"
        }
      ]
    },
    {
      "cell_type": "code",
      "metadata": {
        "id": "PP8CeuzWveAN",
        "colab_type": "code",
        "outputId": "5b4e0897-a503-4594-9cc7-30c24e442543",
        "colab": {
          "base_uri": "https://localhost:8080/",
          "height": 87
        }
      },
      "source": [
        "context_norm = list(test_data['content_norm'])\n",
        "title_norm = list(test_data['title_norm'])\n",
        "key_words = []\n",
        "for i in range(len(context_norm)):\n",
        "  key_words.append(get_kws_title_using_title(text=context_norm[i], title=title_norm[i], k=5))\n",
        "keywords_rw = pd.DataFrame({'text':context_norm, 'kw':key_words})\n",
        "\n",
        "evaluate(test_data['keywords'], keywords_rw['kw'])"
      ],
      "execution_count": 0,
      "outputs": [
        {
          "output_type": "stream",
          "text": [
            "Precision -  0.08\n",
            "Recall -  0.17\n",
            "F1 -  0.1\n",
            "Jaccard -  0.06\n"
          ],
          "name": "stdout"
        }
      ]
    },
    {
      "cell_type": "markdown",
      "metadata": {
        "id": "ATSJd3utw3Z4",
        "colab_type": "text"
      },
      "source": [
        "Ничего хорошего не получается. Попробуем сделать k зависимым от длины текста"
      ]
    },
    {
      "cell_type": "code",
      "metadata": {
        "id": "HoLzLQlbwzEu",
        "colab_type": "code",
        "outputId": "db6661f2-c0b1-423f-c4c3-24fc298c4e56",
        "colab": {
          "base_uri": "https://localhost:8080/",
          "height": 87
        }
      },
      "source": [
        "context_norm = list(test_data['content_norm'])\n",
        "title_norm = list(test_data['title_norm'])\n",
        "key_words = []\n",
        "for i in range(len(context_norm)):\n",
        "  k = len(context_norm[i])//30\n",
        "  key_words.append(get_kws_title_using_title(text=context_norm[i], title=title_norm[i], k=k))\n",
        "keywords_rw = pd.DataFrame({'text':context_norm, 'kw':key_words})\n",
        "\n",
        "evaluate(test_data['keywords'], keywords_rw['kw'])"
      ],
      "execution_count": 0,
      "outputs": [
        {
          "output_type": "stream",
          "text": [
            "Precision -  0.08\n",
            "Recall -  0.16\n",
            "F1 -  0.1\n",
            "Jaccard -  0.06\n"
          ],
          "name": "stdout"
        }
      ]
    },
    {
      "cell_type": "code",
      "metadata": {
        "id": "nDEbPlhGxpCX",
        "colab_type": "code",
        "outputId": "5349b147-e06b-42c2-ab20-fdd66f83f014",
        "colab": {
          "base_uri": "https://localhost:8080/",
          "height": 87
        }
      },
      "source": [
        "context_norm = list(test_data['content_norm'])\n",
        "title_norm = list(test_data['title_norm'])\n",
        "key_words = []\n",
        "for i in range(len(context_norm)):\n",
        "  k = len(context_norm[i])//5\n",
        "  key_words.append(get_kws_title_using_title(text=context_norm[i], title=title_norm[i], k=k))\n",
        "keywords_rw = pd.DataFrame({'text':context_norm, 'kw':key_words})\n",
        "\n",
        "evaluate(test_data['keywords'], keywords_rw['kw'])"
      ],
      "execution_count": 0,
      "outputs": [
        {
          "output_type": "stream",
          "text": [
            "Precision -  0.08\n",
            "Recall -  0.16\n",
            "F1 -  0.1\n",
            "Jaccard -  0.06\n"
          ],
          "name": "stdout"
        }
      ]
    },
    {
      "cell_type": "markdown",
      "metadata": {
        "id": "dddnGFn8yYYw",
        "colab_type": "text"
      },
      "source": [
        "Всё равно ничего хорошего не получается"
      ]
    },
    {
      "cell_type": "markdown",
      "metadata": {
        "id": "-UG724AFycE-",
        "colab_type": "text"
      },
      "source": [
        "Идея 4. Оставим от текста только существительные"
      ]
    },
    {
      "cell_type": "code",
      "metadata": {
        "id": "EEZtHQvvyjlW",
        "colab_type": "code",
        "colab": {}
      },
      "source": [
        "def nouns(lemmas):\n",
        "  nouns = []\n",
        "  for lemma in lemmas:\n",
        "    parsed_word = morph.parse(lemma)[0]\n",
        "    if 'NOUN' in parsed_word.tag:\n",
        "      nouns.append(lemma)\n",
        "  return nouns"
      ],
      "execution_count": 0,
      "outputs": []
    },
    {
      "cell_type": "code",
      "metadata": {
        "id": "8SFRfRxGzg4P",
        "colab_type": "code",
        "colab": {}
      },
      "source": [
        "test_data['content_nouns'] = test_data['content_norm'].apply(nouns)"
      ],
      "execution_count": 0,
      "outputs": []
    },
    {
      "cell_type": "code",
      "metadata": {
        "id": "rtpijyhd2AdF",
        "colab_type": "code",
        "outputId": "861c4586-5298-4c46-ed68-12446627ad19",
        "colab": {
          "base_uri": "https://localhost:8080/",
          "height": 87
        }
      },
      "source": [
        "keywords_rw = test_data['content_nouns'].apply(lambda x: get_kws(x, window_size=5))\n",
        "evaluate(test_data['keywords'], keywords_rw)"
      ],
      "execution_count": 0,
      "outputs": [
        {
          "output_type": "stream",
          "text": [
            "Precision -  0.13\n",
            "Recall -  0.13\n",
            "F1 -  0.12\n",
            "Jaccard -  0.07\n"
          ],
          "name": "stdout"
        }
      ]
    },
    {
      "cell_type": "markdown",
      "metadata": {
        "id": "GO6oVxYi4enm",
        "colab_type": "text"
      },
      "source": [
        "Стало лучше, так как не возвращаются слова \"не тех\" частей речи, как и при использовании функции со стемингом (первой из предложенных в этой тетрадке)"
      ]
    },
    {
      "cell_type": "markdown",
      "metadata": {
        "id": "rRddzAuc5Yh-",
        "colab_type": "text"
      },
      "source": [
        "Идея 5. Возьмём самые частотные существительные без использования графов"
      ]
    },
    {
      "cell_type": "code",
      "metadata": {
        "id": "ARWvopEf5brz",
        "colab_type": "code",
        "outputId": "c46ea2f3-0f51-4f4f-e6e8-fbbd020c4cf9",
        "colab": {
          "base_uri": "https://localhost:8080/",
          "height": 87
        }
      },
      "source": [
        "keywords_rw = test_data['content_nouns'].apply(lambda x: [x[0] for x in Counter(x).most_common(10)])\n",
        "evaluate(test_data['keywords'], keywords_rw)"
      ],
      "execution_count": 0,
      "outputs": [
        {
          "output_type": "stream",
          "text": [
            "Precision -  0.13\n",
            "Recall -  0.25\n",
            "F1 -  0.16\n",
            "Jaccard -  0.09\n"
          ],
          "name": "stdout"
        }
      ]
    },
    {
      "cell_type": "markdown",
      "metadata": {
        "id": "Jrkp64qKCE8r",
        "colab_type": "text"
      },
      "source": [
        "Precision такой же, как при использовании графов, остальные метрики выше"
      ]
    },
    {
      "cell_type": "markdown",
      "metadata": {
        "id": "ocSQNw2v6EeI",
        "colab_type": "text"
      },
      "source": [
        "### Идея 6. Попробуем взять n самых частотных биграм и 10-n самых частотных существительных"
      ]
    },
    {
      "cell_type": "code",
      "metadata": {
        "id": "42M_7o8EBmH9",
        "colab_type": "code",
        "colab": {}
      },
      "source": [
        "def bigrams(text):\n",
        "  tokens = [word.strip(punct) for word in text.lower().split()]\n",
        "  bigrams = []\n",
        "  for i in range(1, len(tokens)):\n",
        "    bigram = tokens[i-1]+' '+tokens[i]\n",
        "    bigrams.append(bigram)\n",
        "  return(bigrams)"
      ],
      "execution_count": 0,
      "outputs": []
    },
    {
      "cell_type": "code",
      "metadata": {
        "id": "10PYck1oEISZ",
        "colab_type": "code",
        "colab": {}
      },
      "source": [
        "test_data['bigrams'] = test_data['content'].apply(bigrams)"
      ],
      "execution_count": 0,
      "outputs": []
    },
    {
      "cell_type": "markdown",
      "metadata": {
        "id": "EYnmUfnWFMvj",
        "colab_type": "text"
      },
      "source": [
        "Просматриванием ответов удалось прийти к выводу, что в основном ключевыми являются биграмы следующих типов:\n",
        "- существительное + существительное, первое в начальной форме, второе - зависимое (управление) - в той форме, в какой в тексте\n",
        "- прилагательное + существительное, существительное - в начальной форме, прилагательное с ним согласуется"
      ]
    },
    {
      "cell_type": "code",
      "metadata": {
        "id": "kBafAWGBEkVk",
        "colab_type": "code",
        "colab": {}
      },
      "source": [
        "def prepare_bigrams(bigrams):\n",
        "  prepared_bigrams = []\n",
        "  for bigram in bigrams:\n",
        "    try: #возможно исключение при попытке получить род существительного pluralia tantum\n",
        "      [token1, token2] = bigram.split()\n",
        "      parsed_word1 = morph.parse(token1)[0]\n",
        "      parsed_word2 = morph.parse(token2)[0]\n",
        "      if 'NOUN' in parsed_word1.tag and 'NOUN' in parsed_word2.tag:\n",
        "        prepared_bigram = parsed_word1.normal_form + ' ' + token2\n",
        "        prepared_bigrams.append(prepared_bigram)\n",
        "      elif 'NOUN' in parsed_word2.tag and 'ADJF' in parsed_word1.tag:\n",
        "        gender = parsed_word1.tag.gender\n",
        "        prepared_token1 = parsed_word1.inflect({gender, 'nomn', 'sing'})\n",
        "        prepared_token2 = parsed_word2.normal_form\n",
        "        prepared_bigram = prepared_token1 + ' ' + prepared_token2\n",
        "        prepared_bigrams.append(prepared_bigram)\n",
        "    except:\n",
        "      pass \n",
        "    return prepared_bigrams"
      ],
      "execution_count": 0,
      "outputs": []
    },
    {
      "cell_type": "code",
      "metadata": {
        "id": "ZuVUUS0oHvCS",
        "colab_type": "code",
        "colab": {}
      },
      "source": [
        "nouns = list(test_data['content_nouns'])\n",
        "prepared_bigrams = [prepare_bigrams(bigrams) for bigrams in text_as_bigrams]\n",
        "keys = []\n",
        "for i in range(len(nouns)):\n",
        "    keys.append(bigrams_and_nouns(prepared_bigrams[i], nouns[i]))"
      ],
      "execution_count": 0,
      "outputs": []
    },
    {
      "cell_type": "code",
      "metadata": {
        "id": "xWeiqJCfGLrb",
        "colab_type": "code",
        "colab": {}
      },
      "source": [
        "key_values = []\n",
        "for key in keys:\n",
        "    key_text = [res[0] for res in key]\n",
        "    key_values.append(key_text)\n",
        "test_data['keys_bigrams'] = key_values\n",
        "evaluate(test_data['keywords'], test_data['keys_bigrams'])"
      ],
      "execution_count": 0,
      "outputs": []
    },
    {
      "cell_type": "markdown",
      "metadata": {
        "id": "FVLgJTZk50PX",
        "colab_type": "text"
      },
      "source": [
        "Считала в другой тетрадке, получила результат:\n",
        "Precision -  0.11\n",
        "Recall -  0.21\n",
        "F1 -  0.13\n",
        "Jaccard -  0.08\n",
        "Не лучше, чем при использовании только существительных, но ощутимо дольше"
      ]
    },
    {
      "cell_type": "markdown",
      "metadata": {
        "id": "Gl_094__C_QZ",
        "colab_type": "text"
      },
      "source": [
        ""
      ]
    },
    {
      "cell_type": "markdown",
      "metadata": {
        "id": "jBWQZLymC_bR",
        "colab_type": "text"
      },
      "source": [
        "Идея 7\n",
        "Применим tfidf к спискам существительных"
      ]
    },
    {
      "cell_type": "code",
      "metadata": {
        "id": "SA0WHVRaDCN7",
        "colab_type": "code",
        "colab": {}
      },
      "source": [
        "test_data['nouns_str'] = test_data['content_nouns'].apply(' '.join)"
      ],
      "execution_count": 0,
      "outputs": []
    },
    {
      "cell_type": "code",
      "metadata": {
        "id": "N-52TrbOH9fp",
        "colab_type": "code",
        "colab": {}
      },
      "source": [
        "tfidf = TfidfVectorizer(min_df=5)"
      ],
      "execution_count": 0,
      "outputs": []
    },
    {
      "cell_type": "code",
      "metadata": {
        "id": "Llryhe75IIc7",
        "colab_type": "code",
        "colab": {
          "base_uri": "https://localhost:8080/",
          "height": 87
        },
        "outputId": "384731d1-22b7-44ae-e9bd-81be1cb46f8c"
      },
      "source": [
        "tfidf.fit(test_data['nouns_str'])\n",
        "id2word = {i:word for i,word in enumerate(tfidf.get_feature_names())}\n",
        "texts_vectors = tfidf.transform(test_data['nouns_str'])\n",
        "keywords = []\n",
        "for row in range(texts_vectors.shape[0]):\n",
        "    row_data = texts_vectors.getrow(row)\n",
        "    top_inds = row_data.toarray().argsort()[0,:-11:-1]\n",
        "    keywords.append([id2word[w] for w in top_inds])\n",
        "evaluate(test_data['keywords'], keywords)"
      ],
      "execution_count": 16,
      "outputs": [
        {
          "output_type": "stream",
          "text": [
            "Precision -  0.13\n",
            "Recall -  0.24\n",
            "F1 -  0.16\n",
            "Jaccard -  0.09\n"
          ],
          "name": "stdout"
        }
      ]
    },
    {
      "cell_type": "markdown",
      "metadata": {
        "id": "uWJeWJsZJl0j",
        "colab_type": "text"
      },
      "source": [
        "Очень похоже на использование Counter, но проигрывает по recall"
      ]
    },
    {
      "cell_type": "markdown",
      "metadata": {
        "id": "q-7o5wXdJvdx",
        "colab_type": "text"
      },
      "source": [
        "(сюда я вставлю результаты по всем файлам, когда они досчитаются)"
      ]
    }
  ]
}